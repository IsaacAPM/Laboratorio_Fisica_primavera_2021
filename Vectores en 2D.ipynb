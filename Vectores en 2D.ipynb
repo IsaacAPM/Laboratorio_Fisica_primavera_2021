{
 "cells": [
  {
   "cell_type": "code",
   "execution_count": null,
   "metadata": {},
   "outputs": [],
   "source": [
    "import matplotlib.pyplot as plt\n",
    "import numpy as np\n",
    "%matplotlib notebook"
   ]
  },
  {
   "cell_type": "code",
   "execution_count": null,
   "metadata": {},
   "outputs": [],
   "source": [
    "# vectores = quiver\n",
    "\n",
    "#Datos\n",
    "x = np.linspace(-2,2,20)\n",
    "y = np.linspace(-2,2,20)\n",
    "\n",
    "xmesh,ymesh = np.meshgrid(x,y)\n",
    "\n",
    "def V(x,y):\n",
    "    p = x*y\n",
    "    q = y**2 - x**2\n",
    "    return np.array([p,q])\n",
    "\n",
    "umesh, vmesh = V(xmesh,ymesh)\n",
    "\n",
    "#plt.scatter(xmesh,ymesh)\n",
    "#plt.quiver(xmesh,ymesh,umesh,vmesh)\n",
    "plt.show()\n"
   ]
  },
  {
   "cell_type": "code",
   "execution_count": null,
   "metadata": {},
   "outputs": [],
   "source": [
    "fig, axes = plt.subplots(figsize=(6,6))\n",
    "axes.axis([-2,2,-2,2])\n",
    "axes.axvline(x=0,ls='--',lw=2,color='k')\n",
    "axes.axhline(y=0,ls='--',lw=2,color='k')\n",
    "axes.quiver(xmesh,ymesh,umesh,vmesh)"
   ]
  },
  {
   "cell_type": "code",
   "execution_count": null,
   "metadata": {},
   "outputs": [],
   "source": []
  }
 ],
 "metadata": {
  "kernelspec": {
   "display_name": "Python 3",
   "language": "python",
   "name": "python3"
  },
  "language_info": {
   "codemirror_mode": {
    "name": "ipython",
    "version": 3
   },
   "file_extension": ".py",
   "mimetype": "text/x-python",
   "name": "python",
   "nbconvert_exporter": "python",
   "pygments_lexer": "ipython3",
   "version": "3.8.5"
  }
 },
 "nbformat": 4,
 "nbformat_minor": 4
}
