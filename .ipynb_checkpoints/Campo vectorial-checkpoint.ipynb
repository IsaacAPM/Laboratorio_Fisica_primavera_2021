{
 "cells": [
  {
   "cell_type": "code",
   "execution_count": null,
   "metadata": {},
   "outputs": [],
   "source": [
    "import matplotlib.pyplot as plt\n",
    "import numpy as np\n",
    "from mpl_toolkits.mplot3d import axes3d\n",
    "%matplotlib notebook"
   ]
  },
  {
   "cell_type": "code",
   "execution_count": null,
   "metadata": {},
   "outputs": [],
   "source": [
    "# campo vectorial 3D\n",
    "#datos\n",
    "x = np.linspace(-3,3,10)\n",
    "y = np.linspace(-3,3,10)\n",
    "z = np.linspace(-1,1,3)\n",
    "\n",
    "xmesh, ymesh, zmesh = np.meshgrid(x,y,z,indexing='ij')\n",
    "\n",
    "# campo vectorial\n",
    "def F(x,y,z):\n",
    "    u=-y\n",
    "    v=x\n",
    "    w=z*2\n",
    "    return np.array([u,v,w])\n",
    "\n",
    "umesh, vmesh, wmesh = F(xmesh,ymesh,zmesh)\n",
    "\n",
    "#grafica\n",
    "fig = plt.figure('Campo vectorial')\n",
    "ax = fig.gca(projection='3d')\n",
    "#ax.scatter(xmesh,ymesh,zmesh)\n",
    "ax.quiver(xmesh,ymesh,zmesh,umesh,vmesh,wmesh,length=0.5)\n",
    "\n",
    "plt.show()"
   ]
  },
  {
   "cell_type": "code",
   "execution_count": null,
   "metadata": {},
   "outputs": [],
   "source": []
  }
 ],
 "metadata": {
  "kernelspec": {
   "display_name": "Python 3",
   "language": "python",
   "name": "python3"
  },
  "language_info": {
   "codemirror_mode": {
    "name": "ipython",
    "version": 3
   },
   "file_extension": ".py",
   "mimetype": "text/x-python",
   "name": "python",
   "nbconvert_exporter": "python",
   "pygments_lexer": "ipython3",
   "version": "3.8.5"
  }
 },
 "nbformat": 4,
 "nbformat_minor": 4
}
