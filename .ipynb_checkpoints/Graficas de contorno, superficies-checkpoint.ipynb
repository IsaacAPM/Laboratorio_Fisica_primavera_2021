{
 "cells": [
  {
   "cell_type": "code",
   "execution_count": null,
   "metadata": {},
   "outputs": [],
   "source": [
    "import matplotlib.pyplot as plt\n",
    "import numpy as np\n",
    "%matplotlib notebook"
   ]
  },
  {
   "cell_type": "code",
   "execution_count": null,
   "metadata": {
    "scrolled": false
   },
   "outputs": [],
   "source": [
    "#contornos = contour\n",
    "\n",
    "#Datos\n",
    "x = np.linspace(-2,2,11)\n",
    "y = np.linspace(-2,2,11)\n",
    "\n",
    "xmesh,ymesh = np.meshgrid(x,y)\n",
    "zmesh = np.sin((xmesh**2+ymesh**2)**(1/2)) #colocar la ecuación de la funcion\n",
    "\n",
    "#plt.scatter(xmesh,ymesh)\n",
    "c1 = plt.contourf(xmesh,ymesh,zmesh)\n",
    "\n",
    "#plt.colorbar(c1)\n",
    "\n",
    "plt.show()"
   ]
  },
  {
   "cell_type": "code",
   "execution_count": null,
   "metadata": {},
   "outputs": [],
   "source": [
    "from mpl_toolkits.mplot3d import axes3d\n",
    "\n",
    "# superficie\n",
    "#Datos\n",
    "x = np.linspace(-5,5,11)\n",
    "y = np.linspace(-5,5,11)\n",
    "\n",
    "xmesh,ymesh = np.meshgrid(x,y)\n",
    "zmesh = np.sin((xmesh**2+ymesh**2)**(1/2))\n",
    "\n",
    "fig = plt.figure()\n",
    "ax = fig.gca(projection='3d')\n",
    "ax.plot_surface(xmesh,ymesh,zmesh,cstride=1,rstride=1)\n",
    "#ax.plot_wireframe(xmesh,ymesh,zmesh,cstride=1,rstride=1)\n",
    "#ax.contourf(xmesh,ymesh,zmesh)\n",
    "#ax.contourf(xmesh,ymesh,zmesh,zdir='x',offset=-5)\n",
    "plt.show()"
   ]
  }
 ],
 "metadata": {
  "kernelspec": {
   "display_name": "Python 3",
   "language": "python",
   "name": "python3"
  },
  "language_info": {
   "codemirror_mode": {
    "name": "ipython",
    "version": 3
   },
   "file_extension": ".py",
   "mimetype": "text/x-python",
   "name": "python",
   "nbconvert_exporter": "python",
   "pygments_lexer": "ipython3",
   "version": "3.8.5"
  }
 },
 "nbformat": 4,
 "nbformat_minor": 4
}
