{
 "cells": [
  {
   "cell_type": "code",
   "execution_count": null,
   "metadata": {},
   "outputs": [],
   "source": [
    "import matplotlib.pyplot as plt\n",
    "import numpy as np\n",
    "from mpl_toolkits.mplot3d import axes3d\n",
    "%matplotlib notebook"
   ]
  },
  {
   "cell_type": "code",
   "execution_count": null,
   "metadata": {},
   "outputs": [],
   "source": [
    "#trayectoria en 3d\n",
    "\n",
    "#datos\n",
    "t = np.linspace(0,10,101)\n",
    "\n",
    "#trayectoria\n",
    "def s(t):\n",
    "    return np.array([np.sin(t),np.cos(t),np.exp(t)])\n",
    "\n",
    "x,y,z = s(t)\n",
    "\n",
    "#grafica\n",
    "\n",
    "fig = plt.figure('Trayectoria')\n",
    "ax = fig.gca(projection='3d')\n",
    "\n",
    "ax.plot(x,y,z)\n",
    "\n",
    "plt.show()"
   ]
  },
  {
   "cell_type": "code",
   "execution_count": null,
   "metadata": {},
   "outputs": [],
   "source": []
  }
 ],
 "metadata": {
  "kernelspec": {
   "display_name": "Python 3",
   "language": "python",
   "name": "python3"
  },
  "language_info": {
   "codemirror_mode": {
    "name": "ipython",
    "version": 3
   },
   "file_extension": ".py",
   "mimetype": "text/x-python",
   "name": "python",
   "nbconvert_exporter": "python",
   "pygments_lexer": "ipython3",
   "version": "3.8.5"
  }
 },
 "nbformat": 4,
 "nbformat_minor": 4
}
